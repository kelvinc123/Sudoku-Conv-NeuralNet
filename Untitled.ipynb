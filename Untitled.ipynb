{
 "cells": [
  {
   "cell_type": "code",
   "execution_count": 6,
   "metadata": {},
   "outputs": [],
   "source": [
    "import torch\n",
    "import torch.nn as nn\n",
    "import torch.nn.functional as F"
   ]
  },
  {
   "cell_type": "code",
   "execution_count": 7,
   "metadata": {},
   "outputs": [],
   "source": [
    "class CNN_QNET(torch.nn.Module):\n",
    "\n",
    "    def __init__(self, width, height, block_size):\n",
    "        super().__init__()\n",
    "        self.width = int(width // block_size)\n",
    "        self.height = int(height // block_size)\n",
    "\n",
    "        self.hyperparams = {\n",
    "            \"kernel_1\":5,\n",
    "            \"kernel_2\":3,\n",
    "            \"kernel_3\":3,\n",
    "            \"out_1\":10,\n",
    "            \"out_2\":20,\n",
    "            \"out_3\":30\n",
    "        }\n",
    "        \n",
    "        converter = 3\n",
    "        converter -= self.hyperparams[\"kernel_1\"]\n",
    "        converter -= self.hyperparams[\"kernel_2\"]\n",
    "        converter -= self.hyperparams[\"kernel_3\"]\n",
    "        self.hyperparams[\"in_fc\"] = self.hyperparams[\"out_3\"]\n",
    "        self.hyperparams[\"in_fc\"] *= (self.width + converter)\n",
    "        self.hyperparams[\"in_fc\"] *= (self.height + converter)\n",
    "\n",
    "        self.conv1 = nn.Conv2d(\n",
    "            3, self.hyperparams[\"out_1\"], self.hyperparams[\"kernel_1\"]\n",
    "        )\n",
    "        self.conv2 = nn.Conv2d(\n",
    "            self.hyperparams[\"out_1\"], self.hyperparams[\"out_2\"], self.hyperparams[\"kernel_2\"]\n",
    "        )\n",
    "        self.conv3 = nn.Conv2d(\n",
    "            self.hyperparams[\"out_2\"], self.hyperparams[\"out_3\"], self.hyperparams[\"kernel_3\"]\n",
    "        )\n",
    "        self.fc = nn.Linear(self.hyperparams[\"in_fc\"], 3)\n",
    "\n",
    "\n",
    "    def forward(self, x):\n",
    "        # convolution layer\n",
    "        x = F.relu(self.conv1(x))\n",
    "        x = F.relu(self.conv2(x))\n",
    "        x = F.relu(self.conv3(x))\n",
    "\n",
    "        # fully connected layer\n",
    "        x = torch.flatten(x, 1)\n",
    "        x = self.fc(x)\n",
    "\n",
    "        return x"
   ]
  },
  {
   "cell_type": "code",
   "execution_count": 8,
   "metadata": {},
   "outputs": [],
   "source": [
    "cnn = CNN_QNET(840, 640, 20)"
   ]
  },
  {
   "cell_type": "code",
   "execution_count": 18,
   "metadata": {
    "scrolled": false
   },
   "outputs": [
    {
     "name": "stdout",
     "output_type": "stream",
     "text": [
      "torch.Size([10, 3, 5, 5])\n",
      "torch.Size([10])\n",
      "torch.Size([20, 10, 3, 3])\n",
      "torch.Size([20])\n",
      "torch.Size([30, 20, 3, 3])\n",
      "torch.Size([30])\n",
      "torch.Size([3, 24480])\n",
      "torch.Size([3])\n"
     ]
    }
   ],
   "source": [
    "for parameter in cnn.parameters():\n",
    "    print(parameter.size())"
   ]
  },
  {
   "cell_type": "code",
   "execution_count": 19,
   "metadata": {},
   "outputs": [
    {
     "name": "stdout",
     "output_type": "stream",
     "text": [
      "CNN_QNET(\n",
      "  (conv1): Conv2d(3, 10, kernel_size=(5, 5), stride=(1, 1))\n",
      "  (conv2): Conv2d(10, 20, kernel_size=(3, 3), stride=(1, 1))\n",
      "  (conv3): Conv2d(20, 30, kernel_size=(3, 3), stride=(1, 1))\n",
      "  (fc): Linear(in_features=24480, out_features=3, bias=True)\n",
      ")\n"
     ]
    }
   ],
   "source": [
    "print(cnn)"
   ]
  }
 ],
 "metadata": {
  "kernelspec": {
   "display_name": "Python 3",
   "language": "python",
   "name": "python3"
  },
  "language_info": {
   "codemirror_mode": {
    "name": "ipython",
    "version": 3
   },
   "file_extension": ".py",
   "mimetype": "text/x-python",
   "name": "python",
   "nbconvert_exporter": "python",
   "pygments_lexer": "ipython3",
   "version": "3.8.5"
  }
 },
 "nbformat": 4,
 "nbformat_minor": 4
}
