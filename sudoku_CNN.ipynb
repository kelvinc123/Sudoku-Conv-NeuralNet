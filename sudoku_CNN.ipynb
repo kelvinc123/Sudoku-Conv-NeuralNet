{
 "cells": [
  {
   "cell_type": "markdown",
   "metadata": {},
   "source": [
    "# Solving Sudoku using Convolutional Neural Network"
   ]
  },
  {
   "cell_type": "code",
   "execution_count": 1,
   "metadata": {},
   "outputs": [],
   "source": [
    "import torch\n",
    "import os\n",
    "import numpy as np\n",
    "import pandas as pd\n",
    "import matplotlib.pyplot as plt\n",
    "\n",
    "%matplotlib inline"
   ]
  },
  {
   "cell_type": "code",
   "execution_count": 2,
   "metadata": {},
   "outputs": [
    {
     "data": {
      "text/plain": [
       "device(type='cpu')"
      ]
     },
     "execution_count": 2,
     "metadata": {},
     "output_type": "execute_result"
    }
   ],
   "source": [
    "device = torch.device('cuda' if torch.cuda.is_available() else 'cpu')\n",
    "device"
   ]
  },
  {
   "cell_type": "markdown",
   "metadata": {},
   "source": [
    "## 1. Load data"
   ]
  },
  {
   "cell_type": "code",
   "execution_count": 3,
   "metadata": {},
   "outputs": [],
   "source": [
    "def load_sudoku(FILE_PATH):\n",
    "    quizzes = np.zeros((1000000, 81), np.int32)\n",
    "    solutions = np.zeros((1000000, 81), np.int32)\n",
    "    for i, line in enumerate(open(FILE_PATH, 'r').read().splitlines()[1:]):\n",
    "        quiz, solution = line.split(\",\")\n",
    "        for j, q_s in enumerate(zip(quiz, solution)):\n",
    "            q, s = q_s\n",
    "            quizzes[i, j] = q\n",
    "            solutions[i, j] = s\n",
    "    quizzes = quizzes.reshape((-1, 9, 9))\n",
    "    solutions = solutions.reshape((-1, 9, 9))\n",
    "    return quizzes, solutions\n",
    "\n",
    "def plot_sudoku(sudoku):\n",
    "    '''\n",
    "    Helper function to plot sudoku using matplotlib\n",
    "    '''\n",
    "    _ = plt.clf()\n",
    "    fig, ax = plt.subplots(figsize =(5,5))\n",
    "    \n",
    "    for i in range(9):\n",
    "        for j in range(9):\n",
    "            if sudoku[i][j] > 0:\n",
    "                _ = ax.text(i+0.5,8.5-j, str(sudoku[i][j]), va='center', ha='center')\n",
    "    for i in range(3):\n",
    "        _ = ax.axhline((i+1) * 3, color = \"black\")\n",
    "        _ = ax.axvline((i+1) * 3, color = \"black\")\n",
    "    _ = ax.set_xlim(0, 9)\n",
    "    _ = ax.set_ylim(0, 9)\n",
    "    _ = ax.set_xticks(range(9))\n",
    "    _ = ax.set_yticks(range(9))\n",
    "    _ = ax.set_yticklabels([])\n",
    "    _ = ax.set_xticklabels([])\n",
    "    _ = ax.grid()\n",
    "    _ = plt.show()"
   ]
  },
  {
   "cell_type": "code",
   "execution_count": 4,
   "metadata": {},
   "outputs": [],
   "source": [
    "DATA_PATH = os.path.join(\"data\", \"sudoku.csv\")\n",
    "\n",
    "quizzes, solutions = load_sudoku(DATA_PATH)"
   ]
  },
  {
   "cell_type": "markdown",
   "metadata": {},
   "source": [
    "Sample quiz and solution"
   ]
  },
  {
   "cell_type": "code",
   "execution_count": 5,
   "metadata": {},
   "outputs": [
    {
     "data": {
      "text/plain": [
       "<Figure size 432x288 with 0 Axes>"
      ]
     },
     "metadata": {},
     "output_type": "display_data"
    },
    {
     "data": {
      "image/png": "[encoded data removed]",
      "text/plain": [
       "<Figure size 360x360 with 1 Axes>"
      ]
     },
     "metadata": {
      "needs_background": "light"
     },
     "output_type": "display_data"
    }
   ],
   "source": [
    "plot_sudoku(quizzes[0])"
   ]
  },
  {
   "cell_type": "code",
   "execution_count": 6,
   "metadata": {},
   "outputs": [
    {
     "data": {
      "text/plain": [
       "<Figure size 432x288 with 0 Axes>"
      ]
     },
     "metadata": {},
     "output_type": "display_data"
    },
    {
     "data": {
      "image/png": "[encoded data removed]",
      "text/plain": [
       "<Figure size 360x360 with 1 Axes>"
      ]
     },
     "metadata": {
      "needs_background": "light"
     },
     "output_type": "display_data"
    }
   ],
   "source": [
    "plot_sudoku(solutions[0])"
   ]
  },
  {
   "cell_type": "code",
   "execution_count": 7,
   "metadata": {},
   "outputs": [
    {
     "name": "stdout",
     "output_type": "stream",
     "text": [
      "(1000000, 9, 9)\n"
     ]
    }
   ],
   "source": [
    "print(quizzes.shape)"
   ]
  },
  {
   "cell_type": "markdown",
   "metadata": {},
   "source": [
    "## 2. Split data for training, validation, and test set"
   ]
  },
  {
   "cell_type": "markdown",
   "metadata": {},
   "source": [
    "Ratio for train, validation, and test set = 10:1:1"
   ]
  },
  {
   "cell_type": "code",
   "execution_count": 8,
   "metadata": {},
   "outputs": [],
   "source": [
    "# separate train and test set\n",
    "np.random.seed(10)\n",
    "test_size = 0.1  # test + val size\n",
    "\n",
    "index = np.arange(0, quizzes.shape[0])\n",
    "index_train = np.random.choice(index, size=int((1 - test_size) * len(index)), replace=False)\n",
    "index_test = np.array(list(set(index).difference(set(index_train))))"
   ]
  },
  {
   "cell_type": "code",
   "execution_count": 9,
   "metadata": {},
   "outputs": [],
   "source": [
    "X_train = quizzes[index_train]\n",
    "y_train = solutions[index_train]\n",
    "X_test = quizzes[index_test]\n",
    "y_test = solutions[index_test]"
   ]
  },
  {
   "cell_type": "code",
   "execution_count": 10,
   "metadata": {},
   "outputs": [
    {
     "data": {
      "text/plain": [
       "(900000, 9, 9)"
      ]
     },
     "execution_count": 10,
     "metadata": {},
     "output_type": "execute_result"
    }
   ],
   "source": [
    "X_train.shape"
   ]
  },
  {
   "cell_type": "code",
   "execution_count": 11,
   "metadata": {},
   "outputs": [],
   "source": [
    "# separate val and test set\n",
    "np.random.seed(11)\n",
    "val_size = 0.5  # test : val size\n",
    "\n",
    "index = np.arange(0, X_test.shape[0])\n",
    "index_val = np.random.choice(index, size=int(val_size * len(index)), replace=False)\n",
    "index_test = np.array(list(set(index).difference(set(index_val))))"
   ]
  },
  {
   "cell_type": "code",
   "execution_count": 12,
   "metadata": {},
   "outputs": [],
   "source": [
    "X_val = X_test[index_val]\n",
    "y_val = y_test[index_val]\n",
    "X_test = X_test[index_test]\n",
    "y_test = y_test[index_test]"
   ]
  },
  {
   "cell_type": "code",
   "execution_count": 13,
   "metadata": {},
   "outputs": [
    {
     "data": {
      "text/plain": [
       "(50000, 9, 9)"
      ]
     },
     "execution_count": 13,
     "metadata": {},
     "output_type": "execute_result"
    }
   ],
   "source": [
    "X_val.shape"
   ]
  },
  {
   "cell_type": "code",
   "execution_count": 14,
   "metadata": {},
   "outputs": [
    {
     "data": {
      "text/plain": [
       "(50000, 9, 9)"
      ]
     },
     "execution_count": 14,
     "metadata": {},
     "output_type": "execute_result"
    }
   ],
   "source": [
    "X_test.shape"
   ]
  },
  {
   "cell_type": "code",
   "execution_count": 15,
   "metadata": {},
   "outputs": [
    {
     "data": {
      "text/plain": [
       "array([[[7, 5, 0, 0, 8, 2, 0, 0, 0],\n",
       "        [3, 0, 0, 0, 6, 7, 9, 0, 1],\n",
       "        [0, 0, 6, 4, 1, 0, 2, 0, 0],\n",
       "        [2, 0, 0, 0, 0, 0, 4, 0, 0],\n",
       "        [0, 0, 0, 3, 0, 5, 7, 0, 8],\n",
       "        [4, 0, 7, 0, 9, 6, 0, 3, 0],\n",
       "        [9, 0, 4, 0, 0, 8, 0, 0, 0],\n",
       "        [6, 0, 0, 0, 0, 9, 5, 0, 2],\n",
       "        [0, 7, 3, 0, 0, 0, 0, 1, 0]],\n",
       "\n",
       "       [[0, 0, 5, 0, 0, 2, 0, 0, 1],\n",
       "        [2, 0, 0, 5, 9, 0, 7, 0, 6],\n",
       "        [0, 0, 0, 0, 4, 8, 0, 3, 0],\n",
       "        [6, 0, 0, 0, 0, 3, 0, 0, 9],\n",
       "        [7, 0, 8, 1, 6, 5, 2, 0, 0],\n",
       "        [0, 0, 1, 0, 7, 0, 0, 0, 0],\n",
       "        [0, 6, 2, 9, 0, 0, 3, 0, 0],\n",
       "        [0, 3, 0, 2, 0, 0, 8, 0, 4],\n",
       "        [4, 8, 0, 0, 0, 0, 9, 0, 5]]], dtype=int32)"
      ]
     },
     "execution_count": 15,
     "metadata": {},
     "output_type": "execute_result"
    }
   ],
   "source": [
    "X_train[:2]"
   ]
  },
  {
   "cell_type": "code",
   "execution_count": 16,
   "metadata": {},
   "outputs": [
    {
     "data": {
      "text/plain": [
       "array([[[7, 8, 0, 0, 5, 0, 0, 2, 6],\n",
       "        [1, 0, 3, 6, 0, 0, 0, 9, 7],\n",
       "        [0, 0, 0, 0, 0, 3, 8, 0, 0],\n",
       "        [0, 0, 8, 0, 4, 5, 7, 0, 0],\n",
       "        [2, 4, 0, 0, 0, 0, 0, 3, 0],\n",
       "        [0, 7, 5, 0, 9, 0, 1, 0, 0],\n",
       "        [0, 2, 0, 7, 3, 9, 0, 8, 0],\n",
       "        [0, 9, 0, 0, 0, 0, 0, 0, 0],\n",
       "        [3, 0, 0, 2, 0, 6, 0, 5, 4]],\n",
       "\n",
       "       [[6, 0, 0, 0, 0, 0, 0, 0, 7],\n",
       "        [0, 0, 1, 4, 0, 9, 3, 5, 0],\n",
       "        [0, 4, 8, 3, 0, 2, 1, 0, 0],\n",
       "        [0, 0, 0, 0, 0, 0, 8, 0, 6],\n",
       "        [9, 0, 0, 5, 0, 3, 0, 4, 0],\n",
       "        [7, 3, 2, 0, 4, 0, 9, 1, 0],\n",
       "        [0, 0, 5, 0, 0, 0, 0, 0, 0],\n",
       "        [4, 1, 0, 0, 9, 6, 0, 0, 0],\n",
       "        [0, 0, 0, 8, 5, 1, 2, 0, 0]]], dtype=int32)"
      ]
     },
     "execution_count": 16,
     "metadata": {},
     "output_type": "execute_result"
    }
   ],
   "source": [
    "X_val[:2]"
   ]
  },
  {
   "cell_type": "code",
   "execution_count": 17,
   "metadata": {},
   "outputs": [
    {
     "data": {
      "text/plain": [
       "array([[[6, 0, 0, 1, 2, 0, 3, 8, 4],\n",
       "        [0, 0, 8, 4, 5, 9, 0, 7, 2],\n",
       "        [0, 0, 0, 0, 0, 6, 0, 0, 5],\n",
       "        [0, 0, 0, 2, 6, 4, 0, 3, 0],\n",
       "        [0, 7, 0, 0, 8, 0, 0, 0, 6],\n",
       "        [9, 4, 0, 0, 0, 3, 0, 0, 0],\n",
       "        [3, 1, 0, 0, 0, 0, 0, 5, 0],\n",
       "        [0, 8, 9, 7, 0, 0, 0, 0, 0],\n",
       "        [5, 0, 2, 0, 0, 0, 1, 9, 0]],\n",
       "\n",
       "       [[0, 0, 9, 0, 6, 5, 4, 3, 0],\n",
       "        [0, 0, 7, 0, 0, 0, 8, 0, 0],\n",
       "        [6, 0, 0, 1, 0, 8, 0, 2, 0],\n",
       "        [0, 0, 3, 0, 9, 0, 0, 0, 2],\n",
       "        [5, 0, 1, 4, 0, 3, 9, 6, 0],\n",
       "        [8, 0, 4, 0, 0, 0, 1, 0, 0],\n",
       "        [0, 3, 0, 5, 0, 9, 0, 0, 7],\n",
       "        [0, 5, 6, 0, 8, 0, 0, 0, 0],\n",
       "        [0, 7, 0, 2, 4, 0, 0, 9, 0]]], dtype=int32)"
      ]
     },
     "execution_count": 17,
     "metadata": {},
     "output_type": "execute_result"
    }
   ],
   "source": [
    "X_test[:2]"
   ]
  },
  {
   "cell_type": "code",
   "execution_count": 18,
   "metadata": {},
   "outputs": [
    {
     "data": {
      "text/plain": [
       "array([[[6, 9, 5, 1, 2, 7, 3, 8, 4],\n",
       "        [1, 3, 8, 4, 5, 9, 6, 7, 2],\n",
       "        [7, 2, 4, 8, 3, 6, 9, 1, 5],\n",
       "        [8, 5, 1, 2, 6, 4, 7, 3, 9],\n",
       "        [2, 7, 3, 9, 8, 1, 5, 4, 6],\n",
       "        [9, 4, 6, 5, 7, 3, 8, 2, 1],\n",
       "        [3, 1, 7, 6, 9, 2, 4, 5, 8],\n",
       "        [4, 8, 9, 7, 1, 5, 2, 6, 3],\n",
       "        [5, 6, 2, 3, 4, 8, 1, 9, 7]],\n",
       "\n",
       "       [[2, 8, 9, 7, 6, 5, 4, 3, 1],\n",
       "        [3, 1, 7, 9, 2, 4, 8, 5, 6],\n",
       "        [6, 4, 5, 1, 3, 8, 7, 2, 9],\n",
       "        [7, 6, 3, 8, 9, 1, 5, 4, 2],\n",
       "        [5, 2, 1, 4, 7, 3, 9, 6, 8],\n",
       "        [8, 9, 4, 6, 5, 2, 1, 7, 3],\n",
       "        [4, 3, 2, 5, 1, 9, 6, 8, 7],\n",
       "        [9, 5, 6, 3, 8, 7, 2, 1, 4],\n",
       "        [1, 7, 8, 2, 4, 6, 3, 9, 5]]], dtype=int32)"
      ]
     },
     "execution_count": 18,
     "metadata": {},
     "output_type": "execute_result"
    }
   ],
   "source": [
    "y_test[:2]"
   ]
  },
  {
   "cell_type": "markdown",
   "metadata": {},
   "source": [
    "## 3. Data preparation"
   ]
  },
  {
   "cell_type": "markdown",
   "metadata": {},
   "source": [
    "#### Normalization"
   ]
  },
  {
   "cell_type": "markdown",
   "metadata": {},
   "source": [
    "Neural network converge way faster with normalize input"
   ]
  },
  {
   "cell_type": "code",
   "execution_count": 19,
   "metadata": {},
   "outputs": [],
   "source": [
    "def normalize_sudoku(sudoku):\n",
    "    \n",
    "    # divide by max - min\n",
    "    norm_sudoku = sudoku / 9\n",
    "    \n",
    "    # centered around 0\n",
    "    norm_sudoku -= np.mean(norm_sudoku)\n",
    "    \n",
    "    return norm_sudoku\n",
    "\n",
    "def normalize_batch(sudokus):\n",
    "    \n",
    "    sudokus = sudokus.astype(np.float)\n",
    "    \n",
    "    for i in range(sudokus.shape[0]):\n",
    "        sudokus[i] = normalize_sudoku(sudokus[i])\n",
    "        \n",
    "    return sudokus"
   ]
  },
  {
   "cell_type": "code",
   "execution_count": 20,
   "metadata": {},
   "outputs": [],
   "source": [
    "X_train = normalize_batch(X_train)\n",
    "X_val = normalize_batch(X_val)\n",
    "# X_test = normalize_batch(X_test)"
   ]
  },
  {
   "cell_type": "markdown",
   "metadata": {},
   "source": [
    "#### Add channel dimension"
   ]
  },
  {
   "cell_type": "markdown",
   "metadata": {},
   "source": [
    "The cnn model takes four dimensional inputs: batch, channel, height, and width. Our inputs only have three dimensions, so we have to reshape the inputs."
   ]
  },
  {
   "cell_type": "code",
   "execution_count": 21,
   "metadata": {},
   "outputs": [],
   "source": [
    "X_train = X_train.reshape((-1, 1, 9, 9))\n",
    "X_val = X_val.reshape((-1, 1, 9, 9))\n",
    "# X_test = X_test.reshape((-1, 1, 9, 9))"
   ]
  },
  {
   "cell_type": "code",
   "execution_count": 22,
   "metadata": {},
   "outputs": [
    {
     "data": {
      "text/plain": [
       "array([[[[ 0.54046639,  0.31824417, -0.23731139, -0.23731139,\n",
       "           0.6515775 , -0.01508916, -0.23731139, -0.23731139,\n",
       "          -0.23731139],\n",
       "         [ 0.09602195, -0.23731139, -0.23731139, -0.23731139,\n",
       "           0.42935528,  0.54046639,  0.76268861, -0.23731139,\n",
       "          -0.12620027],\n",
       "         [-0.23731139, -0.23731139,  0.42935528,  0.20713306,\n",
       "          -0.12620027, -0.23731139, -0.01508916, -0.23731139,\n",
       "          -0.23731139],\n",
       "         [-0.01508916, -0.23731139, -0.23731139, -0.23731139,\n",
       "          -0.23731139, -0.23731139,  0.20713306, -0.23731139,\n",
       "          -0.23731139],\n",
       "         [-0.23731139, -0.23731139, -0.23731139,  0.09602195,\n",
       "          -0.23731139,  0.31824417,  0.54046639, -0.23731139,\n",
       "           0.6515775 ],\n",
       "         [ 0.20713306, -0.23731139,  0.54046639, -0.23731139,\n",
       "           0.76268861,  0.42935528, -0.23731139,  0.09602195,\n",
       "          -0.23731139],\n",
       "         [ 0.76268861, -0.23731139,  0.20713306, -0.23731139,\n",
       "          -0.23731139,  0.6515775 , -0.23731139, -0.23731139,\n",
       "          -0.23731139],\n",
       "         [ 0.42935528, -0.23731139, -0.23731139, -0.23731139,\n",
       "          -0.23731139,  0.76268861,  0.31824417, -0.23731139,\n",
       "          -0.01508916],\n",
       "         [-0.23731139,  0.54046639,  0.09602195, -0.23731139,\n",
       "          -0.23731139, -0.23731139, -0.23731139, -0.12620027,\n",
       "          -0.23731139]]],\n",
       "\n",
       "\n",
       "       [[[-0.23319616, -0.23319616,  0.3223594 , -0.23319616,\n",
       "          -0.23319616, -0.01097394, -0.23319616, -0.23319616,\n",
       "          -0.12208505],\n",
       "         [-0.01097394, -0.23319616, -0.23319616,  0.3223594 ,\n",
       "           0.76680384, -0.23319616,  0.54458162, -0.23319616,\n",
       "           0.43347051],\n",
       "         [-0.23319616, -0.23319616, -0.23319616, -0.23319616,\n",
       "           0.21124829,  0.65569273, -0.23319616,  0.10013717,\n",
       "          -0.23319616],\n",
       "         [ 0.43347051, -0.23319616, -0.23319616, -0.23319616,\n",
       "          -0.23319616,  0.10013717, -0.23319616, -0.23319616,\n",
       "           0.76680384],\n",
       "         [ 0.54458162, -0.23319616,  0.65569273, -0.12208505,\n",
       "           0.43347051,  0.3223594 , -0.01097394, -0.23319616,\n",
       "          -0.23319616],\n",
       "         [-0.23319616, -0.23319616, -0.12208505, -0.23319616,\n",
       "           0.54458162, -0.23319616, -0.23319616, -0.23319616,\n",
       "          -0.23319616],\n",
       "         [-0.23319616,  0.43347051, -0.01097394,  0.76680384,\n",
       "          -0.23319616, -0.23319616,  0.10013717, -0.23319616,\n",
       "          -0.23319616],\n",
       "         [-0.23319616,  0.10013717, -0.23319616, -0.01097394,\n",
       "          -0.23319616, -0.23319616,  0.65569273, -0.23319616,\n",
       "           0.21124829],\n",
       "         [ 0.21124829,  0.65569273, -0.23319616, -0.23319616,\n",
       "          -0.23319616, -0.23319616,  0.76680384, -0.23319616,\n",
       "           0.3223594 ]]]])"
      ]
     },
     "execution_count": 22,
     "metadata": {},
     "output_type": "execute_result"
    }
   ],
   "source": [
    "X_train[:2]"
   ]
  },
  {
   "cell_type": "code",
   "execution_count": 23,
   "metadata": {},
   "outputs": [
    {
     "data": {
      "text/plain": [
       "(900000, 1, 9, 9)"
      ]
     },
     "execution_count": 23,
     "metadata": {},
     "output_type": "execute_result"
    }
   ],
   "source": [
    "X_train.shape"
   ]
  },
  {
   "cell_type": "markdown",
   "metadata": {},
   "source": [
    "#### Reshape target variables"
   ]
  },
  {
   "cell_type": "markdown",
   "metadata": {},
   "source": [
    "Also since each cell is a number between 1 to 9, we have to subtract the target by 1 and make it from 0 to 8"
   ]
  },
  {
   "cell_type": "code",
   "execution_count": 24,
   "metadata": {},
   "outputs": [],
   "source": [
    "# y_train = y_train.reshape((y_train.shape[0], -1))\n",
    "# y_val = y_val.reshape((y_val.shape[0], -1))\n",
    "# y_test = y_test.reshape((y_test.shape[0], -1))\n",
    "\n",
    "y_train = y_train - 1\n",
    "y_val = y_val - 1\n",
    "y_test = y_test - 1"
   ]
  },
  {
   "cell_type": "code",
   "execution_count": 25,
   "metadata": {},
   "outputs": [
    {
     "data": {
      "text/plain": [
       "array([[[5, 8, 4, 0, 1, 6, 2, 7, 3],\n",
       "        [0, 2, 7, 3, 4, 8, 5, 6, 1],\n",
       "        [6, 1, 3, 7, 2, 5, 8, 0, 4],\n",
       "        [7, 4, 0, 1, 5, 3, 6, 2, 8],\n",
       "        [1, 6, 2, 8, 7, 0, 4, 3, 5],\n",
       "        [8, 3, 5, 4, 6, 2, 7, 1, 0],\n",
       "        [2, 0, 6, 5, 8, 1, 3, 4, 7],\n",
       "        [3, 7, 8, 6, 0, 4, 1, 5, 2],\n",
       "        [4, 5, 1, 2, 3, 7, 0, 8, 6]],\n",
       "\n",
       "       [[1, 7, 8, 6, 5, 4, 3, 2, 0],\n",
       "        [2, 0, 6, 8, 1, 3, 7, 4, 5],\n",
       "        [5, 3, 4, 0, 2, 7, 6, 1, 8],\n",
       "        [6, 5, 2, 7, 8, 0, 4, 3, 1],\n",
       "        [4, 1, 0, 3, 6, 2, 8, 5, 7],\n",
       "        [7, 8, 3, 5, 4, 1, 0, 6, 2],\n",
       "        [3, 2, 1, 4, 0, 8, 5, 7, 6],\n",
       "        [8, 4, 5, 2, 7, 6, 1, 0, 3],\n",
       "        [0, 6, 7, 1, 3, 5, 2, 8, 4]]], dtype=int32)"
      ]
     },
     "execution_count": 25,
     "metadata": {},
     "output_type": "execute_result"
    }
   ],
   "source": [
    "y_test[:2]"
   ]
  },
  {
   "cell_type": "code",
   "execution_count": 26,
   "metadata": {},
   "outputs": [
    {
     "data": {
      "text/plain": [
       "(50000, 9, 9)"
      ]
     },
     "execution_count": 26,
     "metadata": {},
     "output_type": "execute_result"
    }
   ],
   "source": [
    "y_test.shape"
   ]
  },
  {
   "cell_type": "markdown",
   "metadata": {},
   "source": [
    "#### Convert to DataLoader"
   ]
  },
  {
   "cell_type": "code",
   "execution_count": 27,
   "metadata": {},
   "outputs": [],
   "source": [
    "from torch.utils.data import TensorDataset, DataLoader, RandomSampler, SequentialSampler\n",
    "\n",
    "def create_dataloader(X, y, batch_size=128, randomize=False):\n",
    "    '''\n",
    "    Function to create dataloader for batch training\n",
    "    '''\n",
    "    data = TensorDataset(torch.tensor(X, dtype=torch.float), torch.tensor(y, dtype=torch.long))\n",
    "    \n",
    "    if randomize:\n",
    "        sampler = RandomSampler(data)\n",
    "    else:\n",
    "        sampler = SequentialSampler(data)\n",
    "    loader = DataLoader(data, sampler=sampler, batch_size=batch_size)\n",
    "    return loader"
   ]
  },
  {
   "cell_type": "code",
   "execution_count": 28,
   "metadata": {},
   "outputs": [],
   "source": [
    "train_loader = create_dataloader(X_train, y_train, batch_size=256)\n",
    "val_loader = create_dataloader(X_val, y_val, batch_size=256)\n",
    "# test_loader = create_dataloader(X_test, y_test, batch_size=256)"
   ]
  },
  {
   "cell_type": "markdown",
   "metadata": {},
   "source": [
    "## 4. Define the model"
   ]
  },
  {
   "cell_type": "code",
   "execution_count": 29,
   "metadata": {},
   "outputs": [],
   "source": [
    "import torch.nn as nn\n",
    "import torch.nn.functional as F\n",
    "\n",
    "\n",
    "class SudokuCNN(nn.Module):\n",
    "    '''\n",
    "    Convolution + Batch Normalization + Relu\n",
    "    '''\n",
    "    \n",
    "    def __init__(self, in_channels, out_channels, kernel_size):\n",
    "        super().__init__()\n",
    "        \n",
    "        # Get the padding size\n",
    "        if type(kernel_size) == tuple:\n",
    "            pad_height = kernel_size[0] // 2\n",
    "            pad_width = kernel_size[1] // 2\n",
    "        else:\n",
    "            pad_height = kernel_size // 2\n",
    "            pad_width = kernel_size // 2\n",
    "        \n",
    "        self.padding = nn.ReflectionPad2d((pad_width, pad_width, pad_height, pad_height))\n",
    "        self.conv = nn.Conv2d(in_channels=in_channels, out_channels=out_channels, kernel_size=kernel_size)\n",
    "        self.batch_norm = nn.BatchNorm2d(out_channels)\n",
    "        \n",
    "    def forward(self, x):\n",
    "        \n",
    "        # Apply reflection padding\n",
    "        x = self.padding(x)\n",
    "        \n",
    "        # Convolution\n",
    "        x = self.conv(x)\n",
    "        \n",
    "        # Batch Normalization\n",
    "        x = self.batch_norm(x)\n",
    "        \n",
    "        # Relu\n",
    "        x = F.relu(x)\n",
    "        \n",
    "        return x\n",
    "\n",
    "class SudokuModel(nn.Module):\n",
    "    \n",
    "    def __init__(self):\n",
    "        super().__init__()\n",
    "        \n",
    "        self.first_layer = SudokuCNN(in_channels=1, out_channels=1024, kernel_size=3)\n",
    "        self.middle_layer = nn.Sequential(\n",
    "            SudokuCNN(in_channels=1024, out_channels=1024, kernel_size=(3,3)),\n",
    "            SudokuCNN(in_channels=1024, out_channels=512, kernel_size=(3,3)),\n",
    "            SudokuCNN(in_channels=512, out_channels=512, kernel_size=(3,3)),\n",
    "            SudokuCNN(in_channels=512, out_channels=512, kernel_size=(3,3)),\n",
    "            SudokuCNN(in_channels=512, out_channels=512, kernel_size=(3,3)),\n",
    "            SudokuCNN(in_channels=512, out_channels=512, kernel_size=(3,3)),\n",
    "            SudokuCNN(in_channels=512, out_channels=512, kernel_size=(3,3)),\n",
    "            SudokuCNN(in_channels=512, out_channels=512, kernel_size=(3,3)),\n",
    "            SudokuCNN(in_channels=512, out_channels=512, kernel_size=(3,3)),\n",
    "            SudokuCNN(in_channels=512, out_channels=512, kernel_size=(3,3)),\n",
    "            SudokuCNN(in_channels=512, out_channels=512, kernel_size=(3,3)),\n",
    "            SudokuCNN(in_channels=512, out_channels=512, kernel_size=(3,3)),\n",
    "            SudokuCNN(in_channels=512, out_channels=512, kernel_size=(3,3)),\n",
    "            SudokuCNN(in_channels=512, out_channels=512, kernel_size=(3,3)),\n",
    "            SudokuCNN(in_channels=512, out_channels=512, kernel_size=(3,3)),\n",
    "            SudokuCNN(in_channels=512, out_channels=256, kernel_size=(3,3)),\n",
    "            SudokuCNN(in_channels=256, out_channels=128, kernel_size=(3,3)),\n",
    "            SudokuCNN(in_channels=128, out_channels=128, kernel_size=(3,3))\n",
    "        )\n",
    "        self.last_layer = nn.Conv2d(in_channels=128, out_channels=9, kernel_size=(1,1))\n",
    "        \n",
    "    def forward(self, x):\n",
    "        \n",
    "        # First layer\n",
    "        x = self.first_layer(x.float())\n",
    "        \n",
    "        # Middle layer\n",
    "        x = self.middle_layer(x)\n",
    "        \n",
    "        # Last layer\n",
    "        x = self.last_layer(x)\n",
    "        \n",
    "        return x"
   ]
  },
  {
   "cell_type": "code",
   "execution_count": 30,
   "metadata": {},
   "outputs": [],
   "source": [
    "model = SudokuModel()"
   ]
  },
  {
   "cell_type": "code",
   "execution_count": 31,
   "metadata": {},
   "outputs": [
    {
     "name": "stdout",
     "output_type": "stream",
     "text": [
      "SudokuModel(\n",
      "  (first_layer): SudokuCNN(\n",
      "    (padding): ReflectionPad2d((1, 1, 1, 1))\n",
      "    (conv): Conv2d(1, 1024, kernel_size=(3, 3), stride=(1, 1))\n",
      "    (batch_norm): BatchNorm2d(1024, eps=1e-05, momentum=0.1, affine=True, track_running_stats=True)\n",
      "  )\n",
      "  (middle_layer): Sequential(\n",
      "    (0): SudokuCNN(\n",
      "      (padding): ReflectionPad2d((1, 1, 1, 1))\n",
      "      (conv): Conv2d(1024, 1024, kernel_size=(3, 3), stride=(1, 1))\n",
      "      (batch_norm): BatchNorm2d(1024, eps=1e-05, momentum=0.1, affine=True, track_running_stats=True)\n",
      "    )\n",
      "    (1): SudokuCNN(\n",
      "      (padding): ReflectionPad2d((1, 1, 1, 1))\n",
      "      (conv): Conv2d(1024, 512, kernel_size=(3, 3), stride=(1, 1))\n",
      "      (batch_norm): BatchNorm2d(512, eps=1e-05, momentum=0.1, affine=True, track_running_stats=True)\n",
      "    )\n",
      "    (2): SudokuCNN(\n",
      "      (padding): ReflectionPad2d((1, 1, 1, 1))\n",
      "      (conv): Conv2d(512, 512, kernel_size=(3, 3), stride=(1, 1))\n",
      "      (batch_norm): BatchNorm2d(512, eps=1e-05, momentum=0.1, affine=True, track_running_stats=True)\n",
      "    )\n",
      "    (3): SudokuCNN(\n",
      "      (padding): ReflectionPad2d((1, 1, 1, 1))\n",
      "      (conv): Conv2d(512, 512, kernel_size=(3, 3), stride=(1, 1))\n",
      "      (batch_norm): BatchNorm2d(512, eps=1e-05, momentum=0.1, affine=True, track_running_stats=True)\n",
      "    )\n",
      "    (4): SudokuCNN(\n",
      "      (padding): ReflectionPad2d((1, 1, 1, 1))\n",
      "      (conv): Conv2d(512, 512, kernel_size=(3, 3), stride=(1, 1))\n",
      "      (batch_norm): BatchNorm2d(512, eps=1e-05, momentum=0.1, affine=True, track_running_stats=True)\n",
      "    )\n",
      "    (5): SudokuCNN(\n",
      "      (padding): ReflectionPad2d((1, 1, 1, 1))\n",
      "      (conv): Conv2d(512, 512, kernel_size=(3, 3), stride=(1, 1))\n",
      "      (batch_norm): BatchNorm2d(512, eps=1e-05, momentum=0.1, affine=True, track_running_stats=True)\n",
      "    )\n",
      "    (6): SudokuCNN(\n",
      "      (padding): ReflectionPad2d((1, 1, 1, 1))\n",
      "      (conv): Conv2d(512, 512, kernel_size=(3, 3), stride=(1, 1))\n",
      "      (batch_norm): BatchNorm2d(512, eps=1e-05, momentum=0.1, affine=True, track_running_stats=True)\n",
      "    )\n",
      "    (7): SudokuCNN(\n",
      "      (padding): ReflectionPad2d((1, 1, 1, 1))\n",
      "      (conv): Conv2d(512, 512, kernel_size=(3, 3), stride=(1, 1))\n",
      "      (batch_norm): BatchNorm2d(512, eps=1e-05, momentum=0.1, affine=True, track_running_stats=True)\n",
      "    )\n",
      "    (8): SudokuCNN(\n",
      "      (padding): ReflectionPad2d((1, 1, 1, 1))\n",
      "      (conv): Conv2d(512, 512, kernel_size=(3, 3), stride=(1, 1))\n",
      "      (batch_norm): BatchNorm2d(512, eps=1e-05, momentum=0.1, affine=True, track_running_stats=True)\n",
      "    )\n",
      "    (9): SudokuCNN(\n",
      "      (padding): ReflectionPad2d((1, 1, 1, 1))\n",
      "      (conv): Conv2d(512, 512, kernel_size=(3, 3), stride=(1, 1))\n",
      "      (batch_norm): BatchNorm2d(512, eps=1e-05, momentum=0.1, affine=True, track_running_stats=True)\n",
      "    )\n",
      "    (10): SudokuCNN(\n",
      "      (padding): ReflectionPad2d((1, 1, 1, 1))\n",
      "      (conv): Conv2d(512, 512, kernel_size=(3, 3), stride=(1, 1))\n",
      "      (batch_norm): BatchNorm2d(512, eps=1e-05, momentum=0.1, affine=True, track_running_stats=True)\n",
      "    )\n",
      "    (11): SudokuCNN(\n",
      "      (padding): ReflectionPad2d((1, 1, 1, 1))\n",
      "      (conv): Conv2d(512, 512, kernel_size=(3, 3), stride=(1, 1))\n",
      "      (batch_norm): BatchNorm2d(512, eps=1e-05, momentum=0.1, affine=True, track_running_stats=True)\n",
      "    )\n",
      "    (12): SudokuCNN(\n",
      "      (padding): ReflectionPad2d((1, 1, 1, 1))\n",
      "      (conv): Conv2d(512, 512, kernel_size=(3, 3), stride=(1, 1))\n",
      "      (batch_norm): BatchNorm2d(512, eps=1e-05, momentum=0.1, affine=True, track_running_stats=True)\n",
      "    )\n",
      "    (13): SudokuCNN(\n",
      "      (padding): ReflectionPad2d((1, 1, 1, 1))\n",
      "      (conv): Conv2d(512, 512, kernel_size=(3, 3), stride=(1, 1))\n",
      "      (batch_norm): BatchNorm2d(512, eps=1e-05, momentum=0.1, affine=True, track_running_stats=True)\n",
      "    )\n",
      "    (14): SudokuCNN(\n",
      "      (padding): ReflectionPad2d((1, 1, 1, 1))\n",
      "      (conv): Conv2d(512, 512, kernel_size=(3, 3), stride=(1, 1))\n",
      "      (batch_norm): BatchNorm2d(512, eps=1e-05, momentum=0.1, affine=True, track_running_stats=True)\n",
      "    )\n",
      "    (15): SudokuCNN(\n",
      "      (padding): ReflectionPad2d((1, 1, 1, 1))\n",
      "      (conv): Conv2d(512, 256, kernel_size=(3, 3), stride=(1, 1))\n",
      "      (batch_norm): BatchNorm2d(256, eps=1e-05, momentum=0.1, affine=True, track_running_stats=True)\n",
      "    )\n",
      "    (16): SudokuCNN(\n",
      "      (padding): ReflectionPad2d((1, 1, 1, 1))\n",
      "      (conv): Conv2d(256, 128, kernel_size=(3, 3), stride=(1, 1))\n",
      "      (batch_norm): BatchNorm2d(128, eps=1e-05, momentum=0.1, affine=True, track_running_stats=True)\n",
      "    )\n",
      "    (17): SudokuCNN(\n",
      "      (padding): ReflectionPad2d((1, 1, 1, 1))\n",
      "      (conv): Conv2d(128, 128, kernel_size=(3, 3), stride=(1, 1))\n",
      "      (batch_norm): BatchNorm2d(128, eps=1e-05, momentum=0.1, affine=True, track_running_stats=True)\n",
      "    )\n",
      "  )\n",
      "  (last_layer): Conv2d(128, 9, kernel_size=(1, 1), stride=(1, 1))\n",
      ")\n"
     ]
    }
   ],
   "source": [
    "print(model)"
   ]
  },
  {
   "cell_type": "markdown",
   "metadata": {},
   "source": [
    "## 5. Set up optimizer"
   ]
  },
  {
   "cell_type": "code",
   "execution_count": 32,
   "metadata": {},
   "outputs": [],
   "source": [
    "import torch.optim as optim\n",
    "optimizer = optim.SGD(model.parameters(), lr=0.001, momentum=0.9)"
   ]
  },
  {
   "cell_type": "markdown",
   "metadata": {},
   "source": [
    "## 6. Set up loss function and sudoku accuracy"
   ]
  },
  {
   "cell_type": "markdown",
   "metadata": {},
   "source": [
    "#### TODO: Find better loss function"
   ]
  },
  {
   "cell_type": "markdown",
   "metadata": {},
   "source": [
    "The loss function must use pytorch operation since it will automatically calculates the derrivatives.\n",
    "\n",
    "$$Loss = \\frac{1}{n}\\sum_{j=1}^{n}\\sum_{i = 1}^{81}(y_{i} - \\hat{y}_{i})^2 $$"
   ]
  },
  {
   "cell_type": "code",
   "execution_count": 33,
   "metadata": {},
   "outputs": [],
   "source": [
    "# def compute_loss(output, target):\n",
    "#     loss = torch.mean(torch.sum((output - target)**2, dim=1))\n",
    "#     return loss"
   ]
  },
  {
   "cell_type": "code",
   "execution_count": 34,
   "metadata": {},
   "outputs": [],
   "source": [
    "criterion = nn.CrossEntropyLoss()"
   ]
  },
  {
   "cell_type": "markdown",
   "metadata": {},
   "source": [
    "We can define the sudoku accuracy as the number of correct answers"
   ]
  },
  {
   "cell_type": "code",
   "execution_count": 35,
   "metadata": {},
   "outputs": [],
   "source": [
    "def sudoku_accuracy(output, target):\n",
    "    \n",
    "    return torch.mean((torch.sum(torch.argmax(output, dim=1) == (target + 1), dim=(1,2)) == 81).float()).item()"
   ]
  },
  {
   "cell_type": "markdown",
   "metadata": {},
   "source": [
    "## 7. Train the model"
   ]
  },
  {
   "cell_type": "code",
   "execution_count": 36,
   "metadata": {
    "scrolled": false
   },
   "outputs": [],
   "source": [
    "def save_model(model, file_name):\n",
    "    MODEL_PATH = os.path.join(\".\", \"model\")\n",
    "    \n",
    "    # if directory doesn't exists, create new one\n",
    "    if not os.path.exists(MODEL_PATH):\n",
    "        os.makedirs(MODEL_PATH)\n",
    "\n",
    "    file_name = os.path.join(MODEL_PATH, file_name)\n",
    "    torch.save(model.state_dict(), file_name)\n",
    "    \n",
    "def load_model(model, file_name):\n",
    "    FILE_PATH = os.path.join(os.path.join(\".\", \"model\"), file_name)\n",
    "    \n",
    "    # if file exists\n",
    "    if os.path.exists(FILE_PATH):\n",
    "        model.load_state_dict(torch.load(FILE_PATH, map_location=torch.device('cpu')))\n",
    "        \n",
    "    return model\n",
    "    \n",
    "\n",
    "def train(model, num_epochs, gpu=True, save=True, load=True, file_name=\"model.pth\"):\n",
    "    \n",
    "    num_batch = (X_train.shape[0] // 128) + 1\n",
    "    \n",
    "    if gpu:\n",
    "        model.to(device)\n",
    "        \n",
    "    if load:\n",
    "        model = load_model(model, file_name)  \n",
    "    \n",
    "    train_loss_histories = []\n",
    "    val_loss_histories = []\n",
    "    accuracy_histories = []\n",
    "    \n",
    "    for epoch in range(num_epochs):\n",
    "\n",
    "        print()\n",
    "        print(f\"======= Epoch {epoch + 1} / {num_epochs} ======\")\n",
    "        print('Training...')\n",
    "\n",
    "        train_loss = 0\n",
    "        n_step = 0\n",
    "\n",
    "        for step, batch in enumerate(train_loader, 0):\n",
    "            \n",
    "            print(f\"Train batch {n_step+1}/{num_batch}\", end='\\r')\n",
    "            \n",
    "            batch_data, batch_labels = batch\n",
    "            \n",
    "            if gpu:\n",
    "                batch_data, batch_labels = batch_data.to(device), batch_labels.to(device)\n",
    "\n",
    "            # clear previously calculated gradients\n",
    "            model.zero_grad()\n",
    "\n",
    "            # perform a forward pass\n",
    "            output = model(batch_data)\n",
    "\n",
    "            # compute loss\n",
    "            loss = criterion(output, batch_labels)\n",
    "            train_loss += loss.item()\n",
    "\n",
    "            # perform backward pass\n",
    "            loss.backward()\n",
    "\n",
    "            # step\n",
    "            optimizer.step()\n",
    "\n",
    "            # increment step\n",
    "            n_step += 1\n",
    "\n",
    "        print(f\"Training loss: {train_loss / n_step}\")\n",
    "        train_loss_histories.append(train_loss/n_step)\n",
    "\n",
    "        print(\"Validation...\")\n",
    "\n",
    "        # variables for tracking\n",
    "        val_loss = 0\n",
    "        accuracy = 0\n",
    "        n_step = 0\n",
    "\n",
    "        for batch in val_loader:\n",
    "\n",
    "            batch_data, batch_labels = batch\n",
    "            \n",
    "            if gpu:\n",
    "                batch_data, batch_labels = batch_data.to(device), batch_labels.to(device)\n",
    "\n",
    "            # tell pytorch to not compute the gradient\n",
    "            with torch.no_grad():\n",
    "\n",
    "                # perform a forward pass\n",
    "                output = model(batch_data)\n",
    "\n",
    "            # compute loss\n",
    "            val_loss += criterion(output, batch_labels).item()\n",
    "\n",
    "            # compute accuracy\n",
    "            accuracy += sudoku_accuracy(output, batch_data, batch_labels)\n",
    "\n",
    "            # increment step\n",
    "            n_step += 1\n",
    "\n",
    "        print(f\"Validation loss: {val_loss / n_step}\")\n",
    "        val_loss_histories.append(val_loss / n_step)\n",
    "        \n",
    "        print(f\"Sudoku accuracy: {accuracy / n_step}\")\n",
    "        accuracy_histories.append(accuracy / n_step)\n",
    "        \n",
    "        \n",
    "        \n",
    "        #########################\n",
    "        #      Saving model     #\n",
    "        #########################\n",
    "\n",
    "        if save:\n",
    "            save_model(model, file_name)"
   ]
  },
  {
   "cell_type": "code",
   "execution_count": null,
   "metadata": {},
   "outputs": [],
   "source": [
    "# num_epochs = 20\n",
    "# train(model, num_epochs, gpu=False, save=True, load=True, file_name=\"model2.pth\")"
   ]
  },
  {
   "cell_type": "markdown",
   "metadata": {},
   "source": [
    "I run this program using aws ec2 g4dn.xlarge for 20 epochs, it took me approximately 12 hours..\n",
    "\n",
    "##### Result:\n",
    "train_loss = \n",
    "\n",
    "val_loss = "
   ]
  },
  {
   "cell_type": "code",
   "execution_count": null,
   "metadata": {},
   "outputs": [],
   "source": [
    "model = load_model(model, file_name=\"model2.pth\")"
   ]
  },
  {
   "cell_type": "markdown",
   "metadata": {},
   "source": [
    "## 8. Calculate test accuracy"
   ]
  },
  {
   "cell_type": "code",
   "execution_count": 38,
   "metadata": {},
   "outputs": [],
   "source": [
    "def sudoku_accuracy(batch_data, batch_label):\n",
    "    \n",
    "    if len(batch_data.shape) == 3:\n",
    "        batch_data = batch_data.reshape((-1, 1, 9, 9))\n",
    "    \n",
    "    batch_data_copy = batch_data.copy()\n",
    "    \n",
    "    # normalize batch\n",
    "    batch_data_copy = normalize_batch(batch_data_copy)\n",
    "    \n",
    "    # prediction, add 1\n",
    "    output = torch.argmax(model(torch.tensor(batch_data_copy, dtype=torch.float)), dim=1) + 1\n",
    "\n",
    "    # check if it is equals to the true label\n",
    "    result = output.numpy() == (batch_label + 1)\n",
    "    \n",
    "    # calculate accuracy based on which cell has 0 value on the data\n",
    "    return np.mean(result.flatten()[batch_data.flatten() == 0])"
   ]
  },
  {
   "cell_type": "code",
   "execution_count": 39,
   "metadata": {},
   "outputs": [
    {
     "data": {
      "text/plain": [
       "(50000, 9, 9)"
      ]
     },
     "execution_count": 39,
     "metadata": {},
     "output_type": "execute_result"
    }
   ],
   "source": [
    "X_test.shape"
   ]
  },
  {
   "cell_type": "code",
   "execution_count": null,
   "metadata": {},
   "outputs": [],
   "source": [
    "acc = sudoku_accuracy(X_test, y_test)\n",
    "print(f\"Test accuracy: {acc}\")"
   ]
  },
  {
   "cell_type": "markdown",
   "metadata": {},
   "source": [
    "## 9. Deploy the model"
   ]
  },
  {
   "cell_type": "code",
   "execution_count": 40,
   "metadata": {},
   "outputs": [],
   "source": [
    "def solve(sudoku, model=model):\n",
    "\n",
    "    sudoku_answer = sudoku.copy()\n",
    "    \n",
    "    # normalize sudoku\n",
    "    sudoku = normalize_sudoku(sudoku)\n",
    "    \n",
    "    # convert to tensor\n",
    "    sudoku = torch.tensor(sudoku, dtype=torch.float)\n",
    "    \n",
    "    # add dimension to (1, 1, 9, 9)\n",
    "    sudoku = torch.unsqueeze(sudoku, 0)\n",
    "    sudoku = torch.unsqueeze(sudoku, 0)\n",
    "    \n",
    "    # get the prediction\n",
    "    output = model(sudoku)\n",
    "    \n",
    "    # get the output\n",
    "    output = torch.argmax(output, dim=1)[0].numpy() + 1\n",
    "    \n",
    "    # put answers to cell which has value of 0\n",
    "    for i in range(9):\n",
    "        for j in range(9):\n",
    "            if sudoku_answer[i, j] == 0:\n",
    "                sudoku_answer[i, j] = output[i, j]\n",
    "                \n",
    "    return sudoku_answer"
   ]
  },
  {
   "cell_type": "markdown",
   "metadata": {},
   "source": [
    "### Sample result:"
   ]
  },
  {
   "cell_type": "code",
   "execution_count": 44,
   "metadata": {},
   "outputs": [
    {
     "name": "stdout",
     "output_type": "stream",
     "text": [
      "Quiz: \n"
     ]
    },
    {
     "data": {
      "text/plain": [
       "<Figure size 432x288 with 0 Axes>"
      ]
     },
     "metadata": {},
     "output_type": "display_data"
    },
    {
     "data": {
      "image/png": "[encoded data removed]",
      "text/plain": [
       "<Figure size 360x360 with 1 Axes>"
      ]
     },
     "metadata": {
      "needs_background": "light"
     },
     "output_type": "display_data"
    }
   ],
   "source": [
    "print(\"Quiz: \")\n",
    "plot_sudoku(X_test[0])"
   ]
  },
  {
   "cell_type": "code",
   "execution_count": 45,
   "metadata": {},
   "outputs": [
    {
     "name": "stdout",
     "output_type": "stream",
     "text": [
      "Prediction: \n"
     ]
    },
    {
     "data": {
      "text/plain": [
       "<Figure size 432x288 with 0 Axes>"
      ]
     },
     "metadata": {},
     "output_type": "display_data"
    },
    {
     "data": {
      "image/png": "[encoded data removed]",
      "text/plain": [
       "<Figure size 360x360 with 1 Axes>"
      ]
     },
     "metadata": {
      "needs_background": "light"
     },
     "output_type": "display_data"
    }
   ],
   "source": [
    "print(\"Prediction: \")\n",
    "plot_sudoku(solve(X_test[0]))"
   ]
  },
  {
   "cell_type": "code",
   "execution_count": 46,
   "metadata": {},
   "outputs": [
    {
     "name": "stdout",
     "output_type": "stream",
     "text": [
      "True value: \n"
     ]
    },
    {
     "data": {
      "text/plain": [
       "<Figure size 432x288 with 0 Axes>"
      ]
     },
     "metadata": {},
     "output_type": "display_data"
    },
    {
     "data": {
      "image/png": "[encoded data removed]",
      "text/plain": [
       "<Figure size 360x360 with 1 Axes>"
      ]
     },
     "metadata": {
      "needs_background": "light"
     },
     "output_type": "display_data"
    }
   ],
   "source": [
    "print(\"True value: \")\n",
    "plot_sudoku(y_test[0] + 1)"
   ]
  },
  {
   "cell_type": "markdown",
   "metadata": {},
   "source": [
    "## 10. Conclusion"
   ]
  },
  {
   "cell_type": "markdown",
   "metadata": {},
   "source": [
    "While the accuracy of solving sudoku is quite high, the number of perfect answer is still 0. It's always better to use other method such as CSP or backtracking"
   ]
  }
 ],
 "metadata": {
  "kernelspec": {
   "display_name": "Python 3",
   "language": "python",
   "name": "python3"
  },
  "language_info": {
   "codemirror_mode": {
    "name": "ipython",
    "version": 3
   },
   "file_extension": ".py",
   "mimetype": "text/x-python",
   "name": "python",
   "nbconvert_exporter": "python",
   "pygments_lexer": "ipython3",
   "version": "3.8.5"
  }
 },
 "nbformat": 4,
 "nbformat_minor": 4
}
